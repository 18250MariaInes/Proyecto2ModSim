{
 "cells": [
  {
   "cell_type": "markdown",
   "metadata": {},
   "source": [
    "### Criterio de Primalidad de Fermat y $\\rho$ de Pollard"
   ]
  },
  {
   "cell_type": "code",
   "execution_count": 9,
   "metadata": {},
   "outputs": [],
   "source": [
    "import numpy as np\n",
    "from math import gcd"
   ]
  },
  {
   "cell_type": "code",
   "execution_count": 49,
   "metadata": {},
   "outputs": [],
   "source": [
    "def test(n): # n > 3\n",
    "    k = 50 #dejamos k = 5\n",
    "    for i in range(k): #el ciclo for se repite k veces\n",
    "        a = np.random.randint(1, n - 2) #escogemos un \"a\" entre [2, n - 2]\n",
    "        if pow(a, n- 1) % n != 1: # si a^(n - 1) no es congruente con 1 mod n\n",
    "            return 0 #regresa 0\n",
    "        \n",
    "    return \"Probablemente es Primo\" #regresa que probablemente es primo\n",
    "        \n",
    "def pollard_rho(n):\n",
    "    primos = [] #la lista de factorización prima \n",
    "    if n%2 == 0: #chequeamos que sea divisible dentro de 2\n",
    "        primos.append(2)\n",
    "    while n != 1:\n",
    "        c = np.random.randint(2, n-1)\n",
    "        f = lambda x: x**2 + c #definimos la funcion\n",
    "        x = y = 2 \n",
    "        d = 1 #iniciamos el factor en 1\n",
    "        while d == 1:\n",
    "            x = f(x) % n #aplicamos las congruencuas\n",
    "            y = f(f(y)) % n #aplicamos las congruencias\n",
    "            d = gcd((x - y) % n, n) # actualizamos el valor de d\n",
    "        if d != n: #si d es distinto de n\n",
    "            primos.append(d) #entonces es un factor primo | añadimos el factor a la lista\n",
    "            n = int(n/d) #actualizamos n para seguir buscando primos\n",
    "        elif d == n: #si d es igual a n\n",
    "            primos.append(d) #añadimos el facotr a la lsita\n",
    "            return primos #regresamos la lista "
   ]
  },
  {
   "cell_type": "code",
   "execution_count": 50,
   "metadata": {},
   "outputs": [
    {
     "data": {
      "text/plain": [
       "0"
      ]
     },
     "execution_count": 50,
     "metadata": {},
     "output_type": "execute_result"
    }
   ],
   "source": [
    "#pollard_rho(8131)\n",
    "test(561)"
   ]
  },
  {
   "cell_type": "code",
   "execution_count": 4,
   "metadata": {},
   "outputs": [
    {
     "data": {
      "text/plain": [
       "[83, 193]"
      ]
     },
     "execution_count": 4,
     "metadata": {},
     "output_type": "execute_result"
    }
   ],
   "source": [
    "#pollard_rho(16019)"
   ]
  },
  {
   "cell_type": "code",
   "execution_count": 5,
   "metadata": {},
   "outputs": [
    {
     "data": {
      "text/plain": [
       "[12347, 16193]"
      ]
     },
     "execution_count": 5,
     "metadata": {},
     "output_type": "execute_result"
    }
   ],
   "source": [
    "#pollard_rho(199934971)"
   ]
  }
 ],
 "metadata": {
  "kernelspec": {
   "display_name": "Python 3",
   "language": "python",
   "name": "python3"
  },
  "language_info": {
   "codemirror_mode": {
    "name": "ipython",
    "version": 3
   },
   "file_extension": ".py",
   "mimetype": "text/x-python",
   "name": "python",
   "nbconvert_exporter": "python",
   "pygments_lexer": "ipython3",
   "version": "3.7.3"
  }
 },
 "nbformat": 4,
 "nbformat_minor": 4
}
